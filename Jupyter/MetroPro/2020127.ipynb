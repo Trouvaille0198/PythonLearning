{
 "cells": [
  {
   "cell_type": "code",
   "execution_count": 1,
   "metadata": {},
   "outputs": [],
   "source": [
    "import numpy as np\n",
    "import pandas as pd\n",
    "import time"
   ]
  },
  {
   "cell_type": "code",
   "execution_count": 2,
   "metadata": {},
   "outputs": [],
   "source": [
    "def cut(data):\n",
    "    position = data.find(' ')\n",
    "    data2 = data[:position]+' 00:00:00'\n",
    "    result = time.mktime(time.strptime(data2, \"%Y-%m-%d %H:%M:%S\"))\n",
    "    return result"
   ]
  },
  {
   "cell_type": "code",
   "execution_count": 3,
   "metadata": {},
   "outputs": [
    {
     "name": "stdout",
     "output_type": "stream",
     "text": [
      "   Unnamed: 0  userID               inTime  inLine inStation  \\\n",
      "0           0    5690  2015-04-07 12:15:32       9       星中路   \n",
      "1           0    5690  2015-04-07 18:30:00       9       宜山路   \n",
      "2           0    5951  2015-04-07 10:25:17       7       新村路   \n",
      "3           0    6138  2015-04-07 07:16:16       6       金桥路   \n",
      "4           0    6138  2015-04-07 17:39:39       4       鲁班路   \n",
      "\n",
      "               outTime  outLine outStation  \n",
      "0  2015-04-07 12:32:30        9        宜山路  \n",
      "1  2015-04-07 18:46:19        9        星中路  \n",
      "2  2015-04-07 12:04:58        2     浦东国际机场  \n",
      "3  2015-04-07 07:55:22        4        鲁班路  \n",
      "4  2015-04-07 18:18:34        6        金桥路  \n",
      "<class 'pandas.core.frame.DataFrame'>\n",
      "RangeIndex: 4288598 entries, 0 to 4288597\n",
      "Data columns (total 8 columns):\n",
      " #   Column      Dtype \n",
      "---  ------      ----- \n",
      " 0   Unnamed: 0  int64 \n",
      " 1   userID      int64 \n",
      " 2   inTime      object\n",
      " 3   inLine      int64 \n",
      " 4   inStation   object\n",
      " 5   outTime     object\n",
      " 6   outLine     int64 \n",
      " 7   outStation  object\n",
      "dtypes: int64(4), object(4)\n",
      "memory usage: 261.8+ MB\n",
      "None\n"
     ]
    }
   ],
   "source": [
    "filename = r\"D:\\Data\\AFC_客流数据\\20150407_transfer.csv\"\n",
    "data = pd.read_csv(filename)\n",
    "print(data.head(5))\n",
    "print(data.info())"
   ]
  },
  {
   "cell_type": "code",
   "execution_count": null,
   "metadata": {},
   "outputs": [],
   "source": [
    "data[\"transfered_inTime\"] = data[\"inTime\"].apply(\n",
    "    lambda x: time.mktime(time.strptime(x, \"%Y-%m-%d %H:%M:%S\"))-cut(x))\n",
    "data[\"transfered_outTime\"] = data[\"outTime\"].apply(\n",
    "    lambda x: time.mktime(time.strptime(x, \"%Y-%m-%d %H:%M:%S\"))-cut(x))"
   ]
  },
  {
   "cell_type": "code",
   "execution_count": null,
   "metadata": {},
   "outputs": [],
   "source": [
    "data['inTime'] = pd.to_datetime(data['inTime'])\n",
    "data['outTime'] = pd.to_datetime(data['outTime'])\n",
    "data['dayName'] = data['inTime'].dt.dayofweek\n",
    "data['dayName'] = data['outTime'].dt.dayofweek"
   ]
  },
  {
   "cell_type": "code",
   "execution_count": null,
   "metadata": {},
   "outputs": [],
   "source": [
    "print(data.head(5))\n",
    "print(data.info())"
   ]
  }
 ],
 "metadata": {
  "kernelspec": {
   "display_name": "Python 3",
   "language": "python",
   "name": "python3"
  },
  "language_info": {
   "codemirror_mode": {
    "name": "ipython",
    "version": 3
   },
   "file_extension": ".py",
   "mimetype": "text/x-python",
   "name": "python",
   "nbconvert_exporter": "python",
   "pygments_lexer": "ipython3",
   "version": "3.7.6"
  }
 },
 "nbformat": 4,
 "nbformat_minor": 4
}
