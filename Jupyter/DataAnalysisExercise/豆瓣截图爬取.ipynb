{
 "cells": [
  {
   "cell_type": "code",
   "execution_count": 1,
   "metadata": {},
   "outputs": [],
   "source": [
    "import requests\n",
    "from requests.exceptions import RequestException\n",
    "from bs4 import BeautifulSoup\n",
    "import time\n",
    "import re\n",
    "import os"
   ]
  },
  {
   "cell_type": "code",
   "execution_count": 2,
   "metadata": {},
   "outputs": [],
   "source": [
    "def get_one_page(url):\n",
    "    try:\n",
    "        headers = {\n",
    "    'User-Agent': 'Mozilla/5.0 (Macintosh; Intel Mac OS X 10_11_4) AppleWebKit/537.36 (KHTML, like Gecko) Chrome/53.0.2785.116 Safari/537.36'\n",
    "}\n",
    "        response = requests.get(url,headers=headers)\n",
    "        if(response.status_code == 200):\n",
    "            return response.text\n",
    "        return None\n",
    "    except RequestException:\n",
    "        return None"
   ]
  },
  {
   "cell_type": "code",
   "execution_count": 3,
   "metadata": {},
   "outputs": [],
   "source": [
    "def get_download_url(html):\n",
    "    soup = BeautifulSoup(html, 'html.parser')\n",
    "    div = soup.find_all('div',class_='cover')\n",
    "    download_list=[div[i].a.img['src'] for i in range(len(div))]\n",
    "    return download_list"
   ]
  },
  {
   "cell_type": "code",
   "execution_count": 4,
   "metadata": {},
   "outputs": [],
   "source": [
    "def change_m_into_l(url):\n",
    "    content = re.sub('/m/','/l/',url)\n",
    "    return content"
   ]
  },
  {
   "cell_type": "code",
   "execution_count": 5,
   "metadata": {},
   "outputs": [],
   "source": [
    "def download_photo(url, index, foldername):\n",
    "    headers = {\n",
    "        'User-Agent': 'Mozilla/5.0 (Macintosh; Intel Mac OS X 10_11_4) AppleWebKit/537.36 (KHTML, like Gecko) Chrome/53.0.2785.116 Safari/537.36'\n",
    "    }\n",
    "    r = requests.get(url, headers=headers, stream=True)\n",
    "    folderpath = \"D:/Pictures/\"+foldername\n",
    "    if not os.path.exists(folderpath):\n",
    "        os.mkdir(folderpath)\n",
    "    filename = folderpath + \"/img{}.png\".format(str(index))\n",
    "    with open(filename, 'wb') as file_object:\n",
    "        file_object.write(r.content)"
   ]
  },
  {
   "cell_type": "code",
   "execution_count": 6,
   "metadata": {},
   "outputs": [],
   "source": [
    "def main(number, start, foldername):\n",
    "    url = 'https://movie.douban.com/celebrity/{}/photos?type=S&start={}&sortby=like&size=a&subtype=a'.format(\n",
    "        number, str(start))\n",
    "    html = get_one_page(url)\n",
    "    download_url = get_download_url(html)\n",
    "    for i in range(len(download_url)):\n",
    "        download_photo(change_m_into_l(download_url[i]), start+i, foldername)"
   ]
  },
  {
   "cell_type": "code",
   "execution_count": null,
   "metadata": {},
   "outputs": [],
   "source": [
    "if __name__ == '__main__':\n",
    "    number = input(\"请输入电影编号：\")\n",
    "    page = input(\"请输入爬取页数：\")\n",
    "    foldername = input(\"请输入文件夹名：\")\n",
    "    for start in range(159, int(page)*30, 30):\n",
    "        main(number, start, foldername)\n",
    "        time.sleep(1)\n",
    "    print(\"下载完成~\")"
   ]
  },
  {
   "cell_type": "code",
   "execution_count": null,
   "metadata": {},
   "outputs": [],
   "source": []
  }
 ],
 "metadata": {
  "kernelspec": {
   "display_name": "Python 3",
   "language": "python",
   "name": "python3"
  },
  "language_info": {
   "codemirror_mode": {
    "name": "ipython",
    "version": 3
   },
   "file_extension": ".py",
   "mimetype": "text/x-python",
   "name": "python",
   "nbconvert_exporter": "python",
   "pygments_lexer": "ipython3",
   "version": "3.7.6"
  }
 },
 "nbformat": 4,
 "nbformat_minor": 4
}
