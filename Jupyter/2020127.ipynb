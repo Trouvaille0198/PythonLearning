{
 "cells": [
  {
   "cell_type": "code",
   "execution_count": 1,
   "metadata": {},
   "outputs": [],
   "source": [
    "import numpy as np\n",
    "import pandas as pd\n",
    "import time"
   ]
  },
  {
   "cell_type": "code",
   "execution_count": 5,
   "metadata": {},
   "outputs": [],
   "source": [
    "def cut(data):\n",
    "    position = data.find(' ')\n",
    "    data2 = data[:position]+' 00:00:00'\n",
    "    result = time.mktime(time.strptime(data2, \"%Y-%m-%d %H:%M:%S\"))\n",
    "    return result"
   ]
  },
  {
   "cell_type": "code",
   "execution_count": 6,
   "metadata": {},
   "outputs": [
    {
     "name": "stdout",
     "output_type": "stream",
     "text": [
      "   Unnamed: 0  userID               inTime  inLine inStation  \\\n",
      "0           0    5690  2015-04-09 08:27:06       9       星中路   \n",
      "1           0    5690  2015-04-09 18:09:53       9       宜山路   \n",
      "2           0    6138  2015-04-09 07:11:03       6       金桥路   \n",
      "3           0    6138  2015-04-09 17:44:30       4       鲁班路   \n",
      "4           0    7753  2015-04-09 15:53:21       7       常熟路   \n",
      "\n",
      "               outTime  outLine outStation  \n",
      "0  2015-04-09 08:42:57        9        宜山路  \n",
      "1  2015-04-09 18:22:17        9        星中路  \n",
      "2  2015-04-09 07:49:54        4        鲁班路  \n",
      "3  2015-04-09 18:25:12        6        金桥路  \n",
      "4  2015-04-09 16:28:24       12        宁国路  \n",
      "<class 'pandas.core.frame.DataFrame'>\n",
      "RangeIndex: 4459834 entries, 0 to 4459833\n",
      "Data columns (total 8 columns):\n",
      " #   Column      Dtype \n",
      "---  ------      ----- \n",
      " 0   Unnamed: 0  int64 \n",
      " 1   userID      int64 \n",
      " 2   inTime      object\n",
      " 3   inLine      int64 \n",
      " 4   inStation   object\n",
      " 5   outTime     object\n",
      " 6   outLine     int64 \n",
      " 7   outStation  object\n",
      "dtypes: int64(4), object(4)\n",
      "memory usage: 272.2+ MB\n",
      "None\n"
     ]
    }
   ],
   "source": [
    "filename = r\"D:\\repo\\PythonLearning\\PandasLearning\\transfer.csv\"\n",
    "data = pd.read_csv(filename)\n",
    "print(data.head(5))\n",
    "print(data.info())"
   ]
  },
  {
   "cell_type": "code",
   "execution_count": 8,
   "metadata": {},
   "outputs": [],
   "source": [
    "data[\"transfered_inTime\"] = data[\"inTime\"].apply(\n",
    "    lambda x: time.mktime(time.strptime(x, \"%Y-%m-%d %H:%M:%S\"))-cut(x))\n",
    "data[\"transfered_outTime\"] = data[\"outTime\"].apply(\n",
    "    lambda x: time.mktime(time.strptime(x, \"%Y-%m-%d %H:%M:%S\"))-cut(x))"
   ]
  },
  {
   "cell_type": "code",
   "execution_count": 9,
   "metadata": {},
   "outputs": [],
   "source": [
    "data['inTime'] = pd.to_datetime(data['inTime'])\n",
    "data['outTime'] = pd.to_datetime(data['outTime'])\n",
    "data['dayName'] = data['inTime'].dt.dayofweek\n",
    "data['dayName'] = data['outTime'].dt.dayofweek"
   ]
  },
  {
   "cell_type": "code",
   "execution_count": 10,
   "metadata": {},
   "outputs": [
    {
     "name": "stdout",
     "output_type": "stream",
     "text": [
      "   Unnamed: 0  userID              inTime  inLine inStation  \\\n",
      "0           0    5690 2015-04-09 08:27:06       9       星中路   \n",
      "1           0    5690 2015-04-09 18:09:53       9       宜山路   \n",
      "2           0    6138 2015-04-09 07:11:03       6       金桥路   \n",
      "3           0    6138 2015-04-09 17:44:30       4       鲁班路   \n",
      "4           0    7753 2015-04-09 15:53:21       7       常熟路   \n",
      "\n",
      "              outTime  outLine outStation  transfered_inTime  \\\n",
      "0 2015-04-09 08:42:57        9        宜山路            30426.0   \n",
      "1 2015-04-09 18:22:17        9        星中路            65393.0   \n",
      "2 2015-04-09 07:49:54        4        鲁班路            25863.0   \n",
      "3 2015-04-09 18:25:12        6        金桥路            63870.0   \n",
      "4 2015-04-09 16:28:24       12        宁国路            57201.0   \n",
      "\n",
      "   transfered_outTime  dayName  \n",
      "0             31377.0        3  \n",
      "1             66137.0        3  \n",
      "2             28194.0        3  \n",
      "3             66312.0        3  \n",
      "4             59304.0        3  \n",
      "<class 'pandas.core.frame.DataFrame'>\n",
      "RangeIndex: 4459834 entries, 0 to 4459833\n",
      "Data columns (total 11 columns):\n",
      " #   Column              Dtype         \n",
      "---  ------              -----         \n",
      " 0   Unnamed: 0          int64         \n",
      " 1   userID              int64         \n",
      " 2   inTime              datetime64[ns]\n",
      " 3   inLine              int64         \n",
      " 4   inStation           object        \n",
      " 5   outTime             datetime64[ns]\n",
      " 6   outLine             int64         \n",
      " 7   outStation          object        \n",
      " 8   transfered_inTime   float64       \n",
      " 9   transfered_outTime  float64       \n",
      " 10  dayName             int64         \n",
      "dtypes: datetime64[ns](2), float64(2), int64(5), object(2)\n",
      "memory usage: 374.3+ MB\n",
      "None\n"
     ]
    }
   ],
   "source": [
    "print(data.head(5))\n",
    "print(data.info())"
   ]
  }
 ],
 "metadata": {
  "kernelspec": {
   "display_name": "Python 3",
   "language": "python",
   "name": "python3"
  },
  "language_info": {
   "codemirror_mode": {
    "name": "ipython",
    "version": 3
   },
   "file_extension": ".py",
   "mimetype": "text/x-python",
   "name": "python",
   "nbconvert_exporter": "python",
   "pygments_lexer": "ipython3",
   "version": "3.7.6"
  }
 },
 "nbformat": 4,
 "nbformat_minor": 4
}
