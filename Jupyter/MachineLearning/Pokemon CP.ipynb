{
 "cells": [
  {
   "cell_type": "code",
   "execution_count": 1,
   "metadata": {},
   "outputs": [],
   "source": [
    "# 假设x_data和y_data都有10笔，分别代表宝可梦进化前后的cp值\n",
    "x_data=[338.,333.,328.,207.,226.,25.,179.,60.,208.,606.]\n",
    "y_data=[640.,633.,619.,393.,428.,27.,193.,66.,226.,1591.]\n",
    "# 这里采用最简单的linear model：y_data=b+w*x_data\n",
    "# 我们要用gradient descent把b和w找出来"
   ]
  },
  {
   "cell_type": "code",
   "execution_count": 2,
   "metadata": {},
   "outputs": [],
   "source": [
    "# 计算梯度微分的函数getGrad()\n",
    "def getGrad(b,w):\n",
    "    # initial b_grad and w_grad\n",
    "    b_grad=0.0\n",
    "    w_grad=0.0\n",
    "    for i in range(10):\n",
    "        b_grad+=(-2.0)*(y_data[i]-(b+w*x_data[i]))\n",
    "        w_grad+=(-2.0*x_data[i])*(y_data[i]-(b+w*x_data[i]))\n",
    "    return (b_grad,w_grad)"
   ]
  },
  {
   "cell_type": "code",
   "execution_count": 3,
   "metadata": {},
   "outputs": [],
   "source": [
    "import matplotlib\n",
    "import matplotlib.pyplot as plt\n",
    "matplotlib.use('Agg')\n",
    "%matplotlib inline \n",
    "import random as random\n",
    "import numpy as np\n",
    "import csv"
   ]
  },
  {
   "cell_type": "code",
   "execution_count": 4,
   "metadata": {},
   "outputs": [],
   "source": [
    "# 生成一组b和w的数据图，方便给gradient descent的过程做标记\n",
    "x = np.arange(-200,-100,1) # bias\n",
    "y = np.arange(-5,5,0.1) # weight\n",
    "Z = np.zeros((len(x),len(y))) # color\n",
    "X,Y = np.meshgrid(x,y)\n",
    "for i in range(len(x)):\n",
    "    for j in range(len(y)):\n",
    "        b = x[i]\n",
    "        w = y[j]\n",
    "        \n",
    "        # Z[j][i]存储的是loss\n",
    "        Z[j][i] = 0\n",
    "        for n in range(len(x_data)):\n",
    "            Z[j][i] = Z[j][i] + (y_data[n] - (b + w * x_data[n]))**2\n",
    "        Z[j][i] = Z[j][i]/len(x_data)"
   ]
  },
  {
   "cell_type": "code",
   "execution_count": 6,
   "metadata": {},
   "outputs": [
    {
     "data": {
      "image/png": "[encoded data removed]",
      "text/plain": [
       "<Figure size 432x288 with 1 Axes>"
      ]
     },
     "metadata": {
      "needs_background": "light"
     },
     "output_type": "display_data"
    }
   ],
   "source": [
    "# y_data = b + w * x_data\n",
    "b = -120 # initial b\n",
    "w = -4 # initial w\n",
    "lr = 0.0000001 # learning rate\n",
    "iteration = 100000 # 这里直接规定了迭代次数，而不是一直运行到b_grad和w_grad都为0(事实证明这样做不太可行)\n",
    "\n",
    "# store initial values for plotting，我们想要最终把数据描绘在图上，因此存储过程数据\n",
    "b_history = [b]\n",
    "w_history = [w]\n",
    "\n",
    "# iterations\n",
    "for i in range(iteration):\n",
    "    \n",
    "    # get new b_grad and w_grad\n",
    "    b_grad,w_grad=getGrad(b,w)\n",
    "    \n",
    "    # update b and w\n",
    "    b -= lr * b_grad\n",
    "    w -= lr * w_grad\n",
    "    \n",
    "    #store parameters for plotting\n",
    "    b_history.append(b)\n",
    "    w_history.append(w)\n",
    "\n",
    "# plot the figure\n",
    "plt.contourf(x,y,Z,50,alpha=0.5,cmap=plt.get_cmap('jet'))\n",
    "plt.plot([-188.4],[2.67],'x',ms=12,markeredgewidth=3,color='orange')\n",
    "plt.plot(b_history,w_history,'o-',ms=3,lw=1.5,color='black')\n",
    "plt.xlim(-200,-100)\n",
    "plt.ylim(-5,5)\n",
    "plt.xlabel(r'$b$',fontsize=16)\n",
    "plt.ylabel(r'$w$',fontsize=16)\n",
    "plt.show()"
   ]
  },
  {
   "cell_type": "code",
   "execution_count": 7,
   "metadata": {},
   "outputs": [
    {
     "data": {
      "image/png": "[encoded data removed]",
      "text/plain": [
       "<Figure size 432x288 with 1 Axes>"
      ]
     },
     "metadata": {
      "needs_background": "light"
     },
     "output_type": "display_data"
    }
   ],
   "source": [
    "# 上图中，gradient descent最终停止的地方里最优解还差很远，\n",
    "# 由于我们是规定了iteration次数的，因此原因应该是learning rate不够大，这里把它放大10倍\n",
    "\n",
    "# y_data = b + w * x_data\n",
    "b = -120 # initial b\n",
    "w = -4 # initial w\n",
    "lr = 0.000001 # learning rate 放大10倍\n",
    "iteration = 100000 # 这里直接规定了迭代次数，而不是一直运行到b_grad和w_grad都为0(事实证明这样做不太可行)\n",
    "\n",
    "# store initial values for plotting，我们想要最终把数据描绘在图上，因此存储过程数据\n",
    "b_history = [b]\n",
    "w_history = [w]\n",
    "\n",
    "# iterations\n",
    "for i in range(iteration):\n",
    "    \n",
    "    # get new b_grad and w_grad\n",
    "    b_grad,w_grad=getGrad(b,w)\n",
    "    \n",
    "    # update b and w\n",
    "    b -= lr * b_grad\n",
    "    w -= lr * w_grad\n",
    "    \n",
    "    #store parameters for plotting\n",
    "    b_history.append(b)\n",
    "    w_history.append(w)\n",
    "\n",
    "# plot the figure\n",
    "plt.contourf(x,y,Z,50,alpha=0.5,cmap=plt.get_cmap('jet'))\n",
    "plt.plot([-188.4],[2.67],'x',ms=12,markeredgewidth=3,color='orange')\n",
    "plt.plot(b_history,w_history,'o-',ms=3,lw=1.5,color='black')\n",
    "plt.xlim(-200,-100)\n",
    "plt.ylim(-5,5)\n",
    "plt.xlabel(r'$b$',fontsize=16)\n",
    "plt.ylabel(r'$w$',fontsize=16)\n",
    "plt.show()"
   ]
  },
  {
   "cell_type": "code",
   "execution_count": 8,
   "metadata": {},
   "outputs": [
    {
     "name": "stdout",
     "output_type": "stream",
     "text": [
      "the function will be y_data=-188.3668387495323+2.6692640713379903*x_data\n",
      "error 0 is: 73.84441736270833 \n",
      "error 1 is: 67.4980970060185 \n",
      "error 2 is: 68.15177664932844 \n",
      "error 3 is: 28.8291759825683 \n",
      "error 4 is: 13.113158627146447 \n",
      "error 5 is: 148.63523696608252 \n",
      "error 6 is: 96.43143001996799 \n",
      "error 7 is: 94.21099446925288 \n",
      "error 8 is: 140.84008808876973 \n",
      "error 9 is: 161.7928115187101 \n",
      "the average error is 89.33471866905532\n"
     ]
    },
    {
     "data": {
      "image/png": "[encoded data removed]",
      "text/plain": [
       "<Figure size 432x288 with 1 Axes>"
      ]
     },
     "metadata": {
      "needs_background": "light"
     },
     "output_type": "display_data"
    }
   ],
   "source": [
    "# 这里给b和w不同的learning rate \n",
    "\n",
    "# y_data = b + w * x_data\n",
    "b = -120 # initial b\n",
    "w = -4 # initial w\n",
    "lr = 1 # learning rate 放大10倍\n",
    "iteration = 100000 # 这里直接规定了迭代次数，而不是一直运行到b_grad和w_grad都为0(事实证明这样做不太可行)\n",
    "\n",
    "# store initial values for plotting，我们想要最终把数据描绘在图上，因此存储过程数据\n",
    "b_history = [b]\n",
    "w_history = [w]\n",
    "\n",
    "lr_b = 0\n",
    "lr_w = 0\n",
    "\n",
    "# iterations\n",
    "for i in range(iteration):\n",
    "    \n",
    "    # get new b_grad and w_grad\n",
    "    b_grad,w_grad=getGrad(b,w)\n",
    "    \n",
    "    # get the different learning rate for b and w\n",
    "    lr_b = lr_b + b_grad ** 2\n",
    "    lr_w = lr_w + w_grad ** 2\n",
    "    \n",
    "    # 这一招叫做adagrad，之后会详加解释\n",
    "    # update b and w with new learning rate\n",
    "    b -= lr / np.sqrt(lr_b) * b_grad\n",
    "    w -= lr / np.sqrt(lr_w) * w_grad\n",
    "    \n",
    "    #store parameters for plotting\n",
    "    b_history.append(b)\n",
    "    w_history.append(w)\n",
    "    \n",
    "    # output the b w b_grad w_grad\n",
    "    # print(\"b: \"+str(b)+\"\\t\\t\\t w: \"+str(w)+\"\\n\"+\"b_grad: \"+str(b_grad)+\"\\t\\t w_grad: \"+str(w_grad)+\"\\n\")\n",
    "    \n",
    "# output the final function and its error\n",
    "print(\"the function will be y_data=\"+str(b)+\"+\"+str(w)+\"*x_data\")\n",
    "error=0.0\n",
    "for i in range(10):\n",
    "    print(\"error \"+str(i)+\" is: \"+str(np.abs(y_data[i]-(b+w*x_data[i])))+\" \")\n",
    "    error+=np.abs(y_data[i]-(b+w*x_data[i]))\n",
    "average_error=error/10\n",
    "print(\"the average error is \"+str(average_error))\n",
    "\n",
    "# plot the figure\n",
    "plt.contourf(x,y,Z,50,alpha=0.5,cmap=plt.get_cmap('jet'))\n",
    "plt.plot([-188.4],[2.67],'x',ms=12,markeredgewidth=3,color='orange')\n",
    "plt.plot(b_history,w_history,'o-',ms=3,lw=1.5,color='black')\n",
    "plt.xlim(-200,-100)\n",
    "plt.ylim(-5,5)\n",
    "plt.xlabel(r'$b$',fontsize=16)\n",
    "plt.ylabel(r'$w$',fontsize=16)\n",
    "plt.show()"
   ]
  },
  {
   "cell_type": "code",
   "execution_count": null,
   "metadata": {},
   "outputs": [],
   "source": []
  }
 ],
 "metadata": {
  "kernelspec": {
   "display_name": "Python 3",
   "language": "python",
   "name": "python3"
  },
  "language_info": {
   "codemirror_mode": {
    "name": "ipython",
    "version": 3
   },
   "file_extension": ".py",
   "mimetype": "text/x-python",
   "name": "python",
   "nbconvert_exporter": "python",
   "pygments_lexer": "ipython3",
   "version": "3.7.6"
  }
 },
 "nbformat": 4,
 "nbformat_minor": 4
}
