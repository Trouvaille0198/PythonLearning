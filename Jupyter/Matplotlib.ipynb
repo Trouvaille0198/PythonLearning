{
 "cells": [
  {
   "cell_type": "code",
   "execution_count": 1,
   "metadata": {},
   "outputs": [
    {
     "name": "stdout",
     "output_type": "stream",
     "text": [
      "Using matplotlib backend: Qt5Agg\n"
     ]
    }
   ],
   "source": [
    "import matplotlib.pyplot as plt\n",
    "import numpy as np\n",
    "%matplotlib"
   ]
  },
  {
   "cell_type": "code",
   "execution_count": 32,
   "metadata": {},
   "outputs": [],
   "source": [
    "fig = plt.figure()\n",
    "fig.suptitle('The Title',fontsize=14,color='purple')\n",
    "ax1 = fig.add_subplot(2, 2, 1)\n",
    "ax2 = fig.add_subplot(2, 2, 2)\n",
    "ax3 = fig.add_subplot(2, 2, 3)\n",
    "\n",
    "ax1.set_title('graph1',color='blue')\n",
    "ax1.set_xticks([0,25,50,75,100])\n",
    "ax1.set_yticks([10,20,30,40,50])\n",
    "ax1.set_xticklabels(['one','two','three','four','five'])\n",
    "ax1.set_yticklabels(['a','b','c','d','e'])\n",
    "ax3.set_xlabel('stage')\n",
    "\n",
    "ax1.text(0.4,0.8,\"This is a text\",rotation=45)\n",
    "fig.show()"
   ]
  },
  {
   "cell_type": "code",
   "execution_count": 42,
   "metadata": {},
   "outputs": [],
   "source": [
    "x = [1, 2, 3, 4] \n",
    "y = [5, 6, 4, 10]\n",
    "\n",
    "plt.plot(x, y, 'r.:', label = 'a',)\n",
    "plt.xlabel('this is x')\n",
    "plt.ylabel('this is y')\n",
    "plt.title('This is a demo')\n",
    "plt.legend() \n",
    "\n",
    "plt.show()"
   ]
  },
  {
   "cell_type": "code",
   "execution_count": 45,
   "metadata": {},
   "outputs": [],
   "source": [
    "x = np.arange(10)\n",
    "y = np.random.randn(10)\n",
    "plt.scatter(x, y, color='blue', marker='+')\n",
    "plt.show()"
   ]
  },
  {
   "cell_type": "code",
   "execution_count": 48,
   "metadata": {},
   "outputs": [],
   "source": [
    "np.random.seed(1)\n",
    "x = np.arange(5)\n",
    "y = np.random.randn(5)\n",
    "\n",
    "fig, axes = plt.subplots(1,2)\n",
    "\n",
    "vert_bars = axes[0].bar(x, y, color='lightblue', align='edge')\n",
    "horiz_bars = axes[1].barh(x, y, color='lightblue', align='edge')\n",
    "#在水平或者垂直方向上画线\n",
    "axes[0].axhline(0, color='gray', linewidth=2)\n",
    "axes[1].axvline(0, color='gray', linewidth=2)\n",
    "plt.show()"
   ]
  },
  {
   "cell_type": "code",
   "execution_count": 49,
   "metadata": {},
   "outputs": [],
   "source": [
    "A = ['A', 'B', 'C', 'D', 'E']\n",
    "x = range(len(A))\n",
    "y = [1984, 3514, 4566, 7812, 1392]\n",
    "x_ = [i+0.2 for i in x]\n",
    "y_ = [3154, 1571, 4566, 9858, 2689]\n",
    "# 2.创建画布\n",
    "plt.figure(figsize=(8,6),dpi=100)\n",
    "# 3.绘制柱状图\n",
    "plt.bar(x, y, width=0.2, label='1')\n",
    "plt.bar(x_,y_, width=0.2, label='2')\n",
    "# 显示图例\n",
    "plt.legend()\n",
    "# 修改x轴刻度显示\n",
    "plt.xticks([i+0.1 for i in x], A)\n",
    "# 添加网格显示\n",
    "plt.grid(linestyle=\"--\", alpha=0.5)\n",
    "# 4.显示图像\n",
    "plt.show()"
   ]
  },
  {
   "cell_type": "code",
   "execution_count": 51,
   "metadata": {},
   "outputs": [],
   "source": [
    "np.random.seed(19680801)\n",
    "\n",
    "n_bins = 10\n",
    "x = np.random.randn(1000, 3)\n",
    "\n",
    "fig, axes = plt.subplots(nrows=2, ncols=2)\n",
    "ax0, ax1, ax2, ax3 = axes.flatten()\n",
    "\n",
    "colors = ['red', 'tan', 'lime']\n",
    "ax0.hist(x, n_bins, density=True, histtype='bar', color=colors, label=colors)\n",
    "ax0.legend(prop={'size': 10})\n",
    "ax0.set_title('bars with legend')\n",
    "\n",
    "ax1.hist(x, n_bins, density=True, histtype='barstacked')\n",
    "ax1.set_title('stacked bar')\n",
    "\n",
    "ax2.hist(x,  histtype='barstacked', rwidth=0.9)\n",
    "\n",
    "ax3.hist(x[:, 0], rwidth=0.9)\n",
    "ax3.set_title('different sample sizes')\n",
    "\n",
    "fig.tight_layout()\n",
    "plt.show()"
   ]
  },
  {
   "cell_type": "code",
   "execution_count": 54,
   "metadata": {},
   "outputs": [],
   "source": [
    "labels = 'Frogs', 'Hogs', 'Dogs', 'Logs'\n",
    "sizes = [15, 30, 45, 10]\n",
    "explode = (0, 0.2, 0, 0)  # only \"explode\" the 2nd slice (i.e. 'Hogs')\n",
    "\n",
    "fig1, (ax1, ax2) = plt.subplots(2)\n",
    "ax1.pie(sizes, labels=labels, autopct='%1.1f%%', shadow=True)\n",
    "ax1.axis('equal')\n",
    "ax2.pie(sizes, autopct='%1.2f%%', shadow=True, startangle=90, explode=explode,\n",
    "    pctdistance=1.12)\n",
    "ax2.axis('equal')\n",
    "ax2.legend(labels=labels, loc='upper right')\n",
    "\n",
    "plt.show()"
   ]
  },
  {
   "cell_type": "code",
   "execution_count": 62,
   "metadata": {},
   "outputs": [],
   "source": [
    "import matplotlib as mpl\n",
    "mpl.rcParams[\"font.sans-serif\"] = [\"FangSong\"]\n",
    "mpl.rcParams[\"axes.unicode_minus\"] = False\n",
    "\n",
    "x = np.random.randn(1000)\n",
    "plt.boxplot(x)\n",
    "\n",
    "plt.xticks([1], ['随机数生成器AlphaRM'])\n",
    "plt.ylabel(\"随机数值\")\n",
    "plt.title(\"随机数生成器抗干扰能力的稳定性\")\n",
    "\n",
    "plt.grid(axis=\"y\", ls=\":\", lw=1, color=\"gray\", alpha=0.4)\n",
    "\n",
    "plt.show()"
   ]
  },
  {
   "cell_type": "code",
   "execution_count": 69,
   "metadata": {},
   "outputs": [],
   "source": [
    "np.random.seed(19680801)\n",
    "area = (30 * np.random.rand(50))**2  \n",
    "\n",
    "a = np.linspace(0.5, 2*np.pi, 20)\n",
    "b = np.random.randn(20)\n",
    "\n",
    "fig=plt.figure()\n",
    "plt.stem(a, b, linefmt=\"-.\", markerfmt=\"o\", basefmt=\"-\")\n",
    "\n",
    "plt.show()\n"
   ]
  },
  {
   "cell_type": "code",
   "execution_count": 65,
   "metadata": {},
   "outputs": [],
   "source": [
    "np.random.seed(19680801)\n",
    "\n",
    "\n",
    "N = 50\n",
    "x = np.random.rand(N)\n",
    "y = np.random.rand(N)\n",
    "colors = np.random.rand(N)\n",
    "area = (30 * np.random.rand(N))**2  # 0 to 15 point radii\n",
    "\n",
    "plt.scatter(x, y, s=area, c=colors, alpha=0.5)\n",
    "plt.show()"
   ]
  },
  {
   "cell_type": "code",
   "execution_count": 70,
   "metadata": {},
   "outputs": [],
   "source": [
    "import matplotlib as mpl\n",
    "mpl.rc(\"font\", family='MicroSoft YaHei', weight='bold')\n",
    "\n",
    "x = [1, 2, 3, 4, 5]\n",
    "y = [6, 10, 4, 5, 1]\n",
    "y1 = [2, 6, 3, 8, 5]\n",
    "\n",
    "plt.bar(x, y, align=\"center\", color=\"#66c2a5\", tick_label=[\"A\", \"B\", \"C\", \"D\", \"E\"], label=\"班级A\")\n",
    "plt.bar(x, y1, align=\"center\", bottom=y, color=\"#8da0cb\", label=\"班级B\")\n",
    "\n",
    "plt.xlabel(\"测试难度\")\n",
    "plt.ylabel(\"试卷份数\")\n",
    "\n",
    "plt.legend()\n",
    "\n",
    "plt.show()"
   ]
  },
  {
   "cell_type": "code",
   "execution_count": 89,
   "metadata": {},
   "outputs": [],
   "source": [
    "fig = plt.figure(5)\n",
    "ax=fig.add_subplot(1,1,1,projection='3d')     #绘制三维图\n",
    "\n",
    "x,y=np.mgrid[-2:2:20j,-2:2:20j]  #获取x轴数据，y轴数据\n",
    "z=x*np.exp(-x**2-y**2)   #获取z轴数据\n",
    "\n",
    "ax.plot_surface(x,y,z,rstride=2,cstride=1,cmap=plt.cm.coolwarm,alpha=0.8)  #绘制三维图表面\n",
    "ax.set_xlabel('x-name')     #x轴名称\n",
    "ax.set_ylabel('y-name')     #y轴名称\n",
    "ax.set_zlabel('z-name')     #z轴名称\n",
    "\n",
    "plt.show()"
   ]
  },
  {
   "cell_type": "code",
   "execution_count": 91,
   "metadata": {},
   "outputs": [],
   "source": [
    "import matplotlib as mpl\n",
    "from mpl_toolkits.mplot3d import Axes3D\n",
    "import numpy as np\n",
    "import matplotlib.pyplot as plt\n",
    "\n",
    "mpl.rcParams['legend.fontsize'] = 10\n",
    "\n",
    "fig = plt.figure()\n",
    "ax = fig.gca(projection='3d')\n",
    "theta = np.linspace(-4 * np.pi, 4 * np.pi, 100)\n",
    "z = np.linspace(-2, 2, 100)\n",
    "r = z**2 + 1\n",
    "x = r * np.sin(theta)\n",
    "y = r * np.cos(theta)\n",
    "ax.plot(x, y, z, label='parametric curve')\n",
    "ax.legend()\n",
    "\n",
    "plt.show()"
   ]
  },
  {
   "cell_type": "code",
   "execution_count": null,
   "metadata": {},
   "outputs": [],
   "source": []
  }
 ],
 "metadata": {
  "kernelspec": {
   "display_name": "Python 3",
   "language": "python",
   "name": "python3"
  },
  "language_info": {
   "codemirror_mode": {
    "name": "ipython",
    "version": 3
   },
   "file_extension": ".py",
   "mimetype": "text/x-python",
   "name": "python",
   "nbconvert_exporter": "python",
   "pygments_lexer": "ipython3",
   "version": "3.7.6"
  }
 },
 "nbformat": 4,
 "nbformat_minor": 4
}
