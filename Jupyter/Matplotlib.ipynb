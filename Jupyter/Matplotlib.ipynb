{
 "cells": [
  {
   "cell_type": "code",
   "execution_count": 23,
   "metadata": {},
   "outputs": [
    {
     "name": "stdout",
     "output_type": "stream",
     "text": [
      "Using matplotlib backend: Qt5Agg\n"
     ]
    }
   ],
   "source": [
    "import matplotlib.pyplot as plt\n",
    "import numpy as np\n",
    "%matplotlib\n",
    "x=np.linspace(-3,3,50)\n",
    "y1=2*x+1\n",
    "y2=x**2\n",
    "\n",
    "plt.figure()\n",
    "plt.plot(x,y2)\n",
    "plt.plot(x,y1,linestyle='--')\n",
    "plt.xlim((-1,2))\n",
    "plt.xlim((-2,3))\n",
    "plt.ylabel('??')\n",
    "\n",
    "new_ticks=np.linspace(-1,2,5)\n",
    "#plt.xticks(new_ticks)\n",
    "#plt.yticks([-2,-1,3],['good','normal','bad'])\n",
    "plt.show()\n"
   ]
  },
  {
   "cell_type": "code",
   "execution_count": null,
   "metadata": {},
   "outputs": [],
   "source": []
  }
 ],
 "metadata": {
  "kernelspec": {
   "display_name": "Python 3",
   "language": "python",
   "name": "python3"
  },
  "language_info": {
   "codemirror_mode": {
    "name": "ipython",
    "version": 3
   },
   "file_extension": ".py",
   "mimetype": "text/x-python",
   "name": "python",
   "nbconvert_exporter": "python",
   "pygments_lexer": "ipython3",
   "version": "3.7.6"
  }
 },
 "nbformat": 4,
 "nbformat_minor": 4
}
